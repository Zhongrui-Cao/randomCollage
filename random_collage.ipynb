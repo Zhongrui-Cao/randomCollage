{
 "cells": [
  {
   "cell_type": "code",
   "execution_count": 322,
   "id": "8ca13824-28b0-4503-ae73-d8328b02fac5",
   "metadata": {},
   "outputs": [],
   "source": [
    "import random\n",
    "import glob\n",
    "import sys\n",
    "from PIL import Image, ImageFilter"
   ]
  },
  {
   "cell_type": "code",
   "execution_count": 323,
   "id": "dbb61712-44dd-4f60-87b8-1751d3df0054",
   "metadata": {},
   "outputs": [],
   "source": [
    "def random_crop(im):\n",
    "    width, height = im.size\n",
    "    x = random.randint(0, width - 1)\n",
    "    y = random.randint(0, height - 1)\n",
    "    right = random.randint(0, width - x) + x\n",
    "    bottom = random.randint(0, height - y) + y\n",
    "    \n",
    "    im1 = im.crop((x, y, right, bottom))\n",
    "    return im1"
   ]
  },
  {
   "cell_type": "code",
   "execution_count": 324,
   "id": "f1d8e480-5918-46a3-83b7-9bc400eae04d",
   "metadata": {},
   "outputs": [],
   "source": [
    "def random_paste(img, background):\n",
    "    width, height = background.size\n",
    "    x = random.randint(0, width - 1)\n",
    "    y = random.randint(0, height - 1)\n",
    "    background.paste(img, (x, y), img)"
   ]
  },
  {
   "cell_type": "code",
   "execution_count": 325,
   "id": "155ba4e7-f49d-49bf-8ee3-166d08caf518",
   "metadata": {},
   "outputs": [],
   "source": [
    "def produce_collage(images):\n",
    "    # 2*5 inch canvas with 300 dpi\n",
    "    count = 0\n",
    "    l = len(images)\n",
    "    printProgress(count, l, prefix='generating collage:', suffix='Complete', barLength=50)\n",
    "\n",
    "    background = Image.new('RGBA', (600, 1500), (255, 255, 255, 255))\n",
    "\n",
    "    for img in images:\n",
    "        croped_img = random_crop(img).rotate(random.randint(5, 360))\n",
    "        random_paste(croped_img, background)\n",
    "        count += 1\n",
    "        printProgress(count, l, prefix='generating collage:', suffix='Complete', barLength=50)\n",
    "    return background"
   ]
  },
  {
   "cell_type": "code",
   "execution_count": 326,
   "id": "288643c1-0b8a-40cb-8d2a-c8ea77af36ff",
   "metadata": {},
   "outputs": [],
   "source": [
    "def random_rotate(img):\n",
    "    if random.randint(0, 3) != 0:\n",
    "        return img\n",
    "    degrees = random.randint(1, 364)\n",
    "    rotated = img.rotate(degrees, resample=Image.BICUBIC)\n",
    "    return rotated"
   ]
  },
  {
   "cell_type": "code",
   "execution_count": 327,
   "id": "eb0ed6a4-44b3-40fd-ac15-03ef6711be2d",
   "metadata": {},
   "outputs": [],
   "source": [
    "def random_filter(img):\n",
    "    if random.randint(0, 4) == 0:\n",
    "        r, g, b, a = img.split()\n",
    "        r = r.point(lambda i: i * random.uniform(0.8, 1.2))\n",
    "        g = g.point(lambda i: i * random.uniform(0.8, 1.2))\n",
    "        b = b.point(lambda i: i * random.uniform(0.8, 1.2))\n",
    "        result = Image.merge('RGBA', (r, g, b, a))\n",
    "        return result\n",
    "    if random.randint(0, 4) == 1:\n",
    "        return img.filter(ImageFilter.BLUR)\n",
    "    return img"
   ]
  },
  {
   "cell_type": "code",
   "execution_count": 328,
   "id": "3add71ec-b095-4b7e-ac18-4c04937a9d96",
   "metadata": {},
   "outputs": [],
   "source": [
    "def random_alpha(img):\n",
    "    im_rgba = img.copy()\n",
    "    if random.randint(0, 4) == 0:\n",
    "        im_rgba.putalpha(random.randint(150, 254))\n",
    "    else:\n",
    "        im_rgba.putalpha(255)\n",
    "\n",
    "    return im_rgba"
   ]
  },
  {
   "cell_type": "code",
   "execution_count": 329,
   "id": "688b0970-e875-49da-b5aa-1ad9bbe9869e",
   "metadata": {},
   "outputs": [],
   "source": [
    "def printProgress(iteration, total, prefix='', suffix='', decimals=1, barLength=100):\n",
    "    \"\"\"\n",
    "    Call in a loop to create a terminal progress bar\n",
    "    @params:\n",
    "        iteration   - Required  : current iteration (Int)\n",
    "        total       - Required  : total iterations (Int)\n",
    "        prefix      - Optional  : prefix string (Str)\n",
    "        suffix      - Optional  : suffix string (Str)\n",
    "        decimals    - Optional  : positive number of decimals in percent complete (Int)\n",
    "        barLength   - Optional  : character length of bar (Int)\n",
    "    \"\"\"\n",
    "    formatStr = \"{0:.\" + str(decimals) + \"f}\"\n",
    "    percent = formatStr.format(100 * (iteration / float(total)))\n",
    "    filledLength = int(round(barLength * iteration / float(total)))\n",
    "    bar = '#' * filledLength + '-' * (barLength - filledLength)\n",
    "    sys.stdout.write('\\r%s |%s| %s%s %s' % (prefix, bar, percent, '%', suffix)),\n",
    "    if iteration == total:\n",
    "        sys.stdout.write('\\n')\n",
    "    sys.stdout.flush()"
   ]
  },
  {
   "cell_type": "code",
   "execution_count": 330,
   "id": "5cd849f4-3242-4cfb-a628-859a33bb2dfb",
   "metadata": {},
   "outputs": [
    {
     "name": "stdout",
     "output_type": "stream",
     "text": [
      "reading images: |##################################################| 100.0% done\n"
     ]
    }
   ],
   "source": [
    "l = len(glob.glob('imput_images/*'))\n",
    "count = 0\n",
    "printProgress(count, l, prefix='reading images:', suffix='done', barLength=50)\n",
    "\n",
    "# Open images in directory\n",
    "image_list = []\n",
    "for filename in glob.glob('imput_images/*'): #dont put non images in path\n",
    "    im=Image.open(filename).convert(\"RGBA\")\n",
    "    image_list.append(im)\n",
    "    count += 1\n",
    "    printProgress(count, l, prefix='reading images:', suffix='done', barLength=50)\n",
    "random.shuffle(image_list)"
   ]
  },
  {
   "cell_type": "code",
   "execution_count": 331,
   "id": "4900ea64-c449-4887-964b-666c8028b45e",
   "metadata": {},
   "outputs": [],
   "source": [
    "add_prerotation = True\n",
    "add_filter = True\n",
    "add_alphafilter = False"
   ]
  },
  {
   "cell_type": "code",
   "execution_count": 332,
   "id": "931ea2ae-a5a5-444e-b6df-692729784a4a",
   "metadata": {},
   "outputs": [
    {
     "name": "stdout",
     "output_type": "stream",
     "text": [
      "Preprocessing images: |##################################################| 100.0% Complete\n"
     ]
    }
   ],
   "source": [
    "# Preprocessing\n",
    "preprocessed_list = []\n",
    "count = 0\n",
    "l = len(image_list)\n",
    "printProgress(count, l, prefix='Preprocessing images:', suffix='done', barLength=50)\n",
    "for img in image_list:\n",
    "    if add_alphafilter:\n",
    "        img = random_alpha(img)\n",
    "    if add_prerotation:\n",
    "        img = random_rotate(img)\n",
    "    if add_filter:\n",
    "        img = random_filter(img)\n",
    "\n",
    "    preprocessed_list.append(img)\n",
    "    count += 1\n",
    "    printProgress(count, l, prefix='Preprocessing images:', suffix='Complete', barLength=50)\n",
    "random.shuffle(preprocessed_list)"
   ]
  },
  {
   "cell_type": "code",
   "execution_count": 333,
   "id": "186ceeaf-49e0-41a5-b249-5a3d9d94d370",
   "metadata": {},
   "outputs": [
    {
     "name": "stdout",
     "output_type": "stream",
     "text": [
      "generating collage: |##################################################| 100.0% Complete\n",
      "saved to ./output/collage#0.png\n",
      "generating collage: |##################################################| 100.0% Complete\n",
      "saved to ./output/collage#1.png\n",
      "generating collage: |##################################################| 100.0% Complete\n",
      "saved to ./output/collage#2.png\n",
      "generating collage: |##################################################| 100.0% Complete\n",
      "saved to ./output/collage#3.png\n",
      "generating collage: |##################################################| 100.0% Complete\n",
      "saved to ./output/collage#4.png\n",
      "generating collage: |##################################################| 100.0% Complete\n",
      "saved to ./output/collage#5.png\n",
      "generating collage: |##################################################| 100.0% Complete\n",
      "saved to ./output/collage#6.png\n",
      "generating collage: |##################################################| 100.0% Complete\n",
      "saved to ./output/collage#7.png\n",
      "generating collage: |##################################################| 100.0% Complete\n",
      "saved to ./output/collage#8.png\n",
      "generating collage: |##################################################| 100.0% Complete\n",
      "saved to ./output/collage#9.png\n"
     ]
    }
   ],
   "source": [
    "for i in range(0, 10):\n",
    "    collage = produce_collage(preprocessed_list)\n",
    "    collage.save(\"./output/collage#\" + str(i) + \".png\")\n",
    "    print(\"saved to \" + \"./output/collage#\" + str(i) + \".png\")"
   ]
  },
  {
   "cell_type": "code",
   "execution_count": null,
   "id": "654514e3-6dde-4115-81e9-089fc51db4e3",
   "metadata": {},
   "outputs": [],
   "source": []
  },
  {
   "cell_type": "code",
   "execution_count": null,
   "id": "1290a082-17a6-44c5-9fda-8aff22f555dd",
   "metadata": {},
   "outputs": [],
   "source": []
  }
 ],
 "metadata": {
  "kernelspec": {
   "display_name": "Python 3",
   "language": "python",
   "name": "python3"
  },
  "language_info": {
   "codemirror_mode": {
    "name": "ipython",
    "version": 3
   },
   "file_extension": ".py",
   "mimetype": "text/x-python",
   "name": "python",
   "nbconvert_exporter": "python",
   "pygments_lexer": "ipython3",
   "version": "3.8.8"
  }
 },
 "nbformat": 4,
 "nbformat_minor": 5
}
